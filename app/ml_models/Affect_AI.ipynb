{
 "cells": [
  {
   "cell_type": "code",
   "execution_count": 1,
   "metadata": {
    "collapsed": true
   },
   "outputs": [],
   "source": [
    "%load_ext autoreload\n",
    "%autoreload 2\n",
    "\n",
    "from agile_analyst import Agile_Analyst\n",
    "import pandas as pd\n",
    "import numpy as np"
   ]
  },
  {
   "cell_type": "code",
   "execution_count": 2,
   "metadata": {
    "collapsed": true
   },
   "outputs": [],
   "source": [
    "aff_ai = Agile_Analyst()"
   ]
  },
  {
   "cell_type": "markdown",
   "metadata": {},
   "source": [
    "### Load and Preprocess Training Data"
   ]
  },
  {
   "cell_type": "code",
   "execution_count": 3,
   "metadata": {},
   "outputs": [
    {
     "name": "stdout",
     "output_type": "stream",
     "text": [
      "                          ['agony 3', 'anguish 3', 'attraction 3']\n",
      "fawn                                                              \n",
      "convolute        ['alarm 3', 'dismay 3', 'fatigue 3', 'flatness...\n",
      "conjury                                             ['devotion 3']\n",
      "daftness         ['foolishness 3', 'foolishness 2', 'fury 3', '...\n",
      "visual property  ['anger 3', 'badness 3', 'boredom 3', 'brightn...\n",
      "snack bar                                         ['acceptance 3']                     19\n",
      "worry 1               \n",
      "affectionateness 1  12\n",
      "eroticism 2         16\n",
      "eroticism 3         85\n",
      "negation 2          56\n",
      "eroticism 1          9\n"
     ]
    }
   ],
   "source": [
    "vocab = pd.DataFrame.from_csv('../../data/pairing_01(2017-08-21 00:03:13.056).csv')\n",
    "sizes = pd.DataFrame.from_csv('../../data/pairing_02(2017-08-21 00:01:41.166).csv')\n",
    "print(vocab.head(), sizes.head())"
   ]
  },
  {
   "cell_type": "code",
   "execution_count": 4,
   "metadata": {
    "collapsed": true
   },
   "outputs": [],
   "source": [
    "# clean_vocab = vocab.filter(regex=\"(\\w+(\\S))\")\n",
    "clean_vocab = pd.DataFrame()\n",
    "for row in range(len(vocab)):\n",
    "    # print (vocab.iloc[row].name.split(\" \"))\n",
    "    if len(vocab.iloc[row].name.split(\" \")) == 1:\n",
    "        entries = vocab.iloc[row][0][1:-1]\n",
    "#         print(entries)\n",
    "        entries = entries.replace(\"'\",\"\")\n",
    "        entries = [entries.split(', ')]\n",
    "#         print(entries)\n",
    "        entries = pd.DataFrame([entries],index=[vocab.iloc[row].name])\n",
    "#         print(entries)\n",
    "        clean_vocab = clean_vocab.append(entries)"
   ]
  },
  {
   "cell_type": "code",
   "execution_count": 5,
   "metadata": {},
   "outputs": [
    {
     "name": "stdout",
     "output_type": "stream",
     "text": [
      "                                                            0\n",
      "convolute   [alarm 3, dismay 3, fatigue 3, flatness 3, imp...\n",
      "conjury                                          [devotion 3]\n",
      "daftness    [foolishness 3, foolishness 2, fury 3, indulge...\n",
      "aegis       [blame 3, concern 3, confidence 3, denial 3, f...\n",
      "forgather   [aggravation 3, ambiance 3, anguish 3, audacio...\n",
      "preface     [ambiance 3, consideration 3, darkness 3, desp...\n",
      "conjuring                                        [devotion 3]\n",
      "shamble                         [attraction 3, disturbance 3]\n",
      "conjure     [abhorrence 3, abomination 3, agony 3, alarm 3...\n",
      "regularize  [alarm 3, compromise 3, consonance 3, desire 3...\n",
      "0    [alarm 3, dismay 3, fatigue 3, flatness 3, imp...\n",
      "Name: convolute, dtype: object convolute\n"
     ]
    }
   ],
   "source": [
    "print(clean_vocab.head(10))\n",
    "print(clean_vocab.iloc[0], clean_vocab.iloc[0].name)"
   ]
  },
  {
   "cell_type": "code",
   "execution_count": 6,
   "metadata": {},
   "outputs": [
    {
     "name": "stdout",
     "output_type": "stream",
     "text": [
      "14054 14054\n"
     ]
    }
   ],
   "source": [
    "print(len(clean_vocab), clean_vocab.shape[0])"
   ]
  },
  {
   "cell_type": "code",
   "execution_count": 7,
   "metadata": {
    "collapsed": true
   },
   "outputs": [],
   "source": [
    "weights = {}\n",
    "for row in range(len(sizes)):\n",
    "    weights[sizes.iloc[row].name] = 100 / sizes.iloc[row][0]"
   ]
  },
  {
   "cell_type": "markdown",
   "metadata": {},
   "source": [
    "### Train an Instance of Affect AI"
   ]
  },
  {
   "cell_type": "code",
   "execution_count": 8,
   "metadata": {
    "collapsed": true
   },
   "outputs": [],
   "source": [
    "aff_ai.train(clean_vocab, weights)"
   ]
  },
  {
   "cell_type": "code",
   "execution_count": 9,
   "metadata": {},
   "outputs": [
    {
     "name": "stdout",
     "output_type": "stream",
     "text": [
      "['convolute', 'conjury', 'daftness', 'aegis', 'forgather', 'preface', 'conjuring', 'shamble', 'conjure', 'regularize', 'parsimoniousness', 'coarctation', 'untie', 'electricity', 'similarity', 'scold', 'gab', 'unsuitableness', 'outwit', 'tingle', 'funk', 'impoverishment', 'deferment', 'sputter', 'lord', 'corridor', 'mackerel', 'shaving', 'sinking', 'antecede', 'digit', 'bellyache', 'shelling', 'reave', 'pothook', 'buzz', 'stipulate', 'appropriation', 'foul', 'microbe', 'medicament', 'bringing', 'rancour', 'stiffness', 'disturb', 'volute', 'prize', 'bumptiousness', 'clientele', 'piling', 'intensification', 'disburden', 'succession', 'straight', 'capitalist', 'fritter', 'orientate', 'fidget', 'charter', 'bilk', 'hanging', 'pulse', 'shackle', 'second', 'tether', 'generator', 'loathing', 'prosody', 'warrantor', 'battleground', 'thunder', 'cooking', 'decry', 'lowliness', 'undertone', 'aggression', 'designing', 'payoff', 'succumb', 'inducement', 'cull', 'specialist', 'widget', 'hero', 'dulcorate', 'herb', 'error', 'isometric', 'herd', 'specialise', 'nauseatingness', 'chassis', 'despicableness', 'granularity', 'cult', 'integrality', 'chink', 'darkness', 'substance', 'unwillingness']\n"
     ]
    }
   ],
   "source": [
    "print(list(aff_ai.vocab.keys())[:100])\n"
   ]
  },
  {
   "cell_type": "code",
   "execution_count": 10,
   "metadata": {},
   "outputs": [
    {
     "name": "stdout",
     "output_type": "stream",
     "text": [
      "1156\n"
     ]
    }
   ],
   "source": [
    "print(aff_ai.corpora['fatigue 3'])\n"
   ]
  },
  {
   "cell_type": "code",
   "execution_count": 12,
   "metadata": {},
   "outputs": [
    {
     "name": "stdout",
     "output_type": "stream",
     "text": [
      "{'aversion 3': 0.31746031746031744, 'defeat 3': 0.038095238095238099, 'distance 3': 0.021463833440652502, 'reception 3': 0.027917364600781685, 'safety 3': 0.029886431560071727, 'thrill 3': 0.018653236336504384, 'triumph 3': 0.025967281225655673}\n",
      "{'admiration 3': 0.10515247108307045, 'aggressiveness 3': 0.052521008403361345, 'alarm 3': 0.049236829148202856, 'alienation 3': 0.087183958151700089, 'alteration 3': 0.097560975609756101, 'ambiance 3': 0.060422960725075532, 'anger 3': 0.029308323563892145, 'appraisal 3': 0.14285714285714285, 'appreciation 3': 0.032164683177870697, 'attraction 3': 0.027359781121751026, 'attraction 2': 0.34129692832764508, 'audaciousness 3': 0.069060773480662987, 'awkwardness 3': 0.07407407407407407, 'belief 3': 0.071428571428571425, 'bitterness 3': 0.09950248756218906, 'blame 3': 0.029377203290246769, 'blame 2': 0.32154340836012862, 'boldness 3': 0.064977257959714096, 'cheerfulness 3': 0.20491803278688525, 'compromise 3': 0.033806626098715348, 'compromise 2': 0.45454545454545453, 'concern 3': 0.028042624789680313, 'consideration 3': 0.060864272671941569, 'content 3': 0.034782608695652174, 'content 2': 0.36231884057971014, 'darkness 3': 0.047596382674916705, 'defeat 3': 0.076190476190476197, 'delight 3': 0.069541029207232263, 'depression 3': 0.039635354736424891, 'desire 3': 0.040567951318458417, 'despair 3': 0.091407678244972576, 'determination 3': 0.030703101013202335, 'determination 2': 0.29239766081871343, 'devastation 3': 0.047460844803037493, 'diligence 3': 0.068259385665529013, 'dimension 3': 0.032541490400260331, 'disbelief 3': 0.2544529262086514, 'disdain 3': 0.072992700729927001, 'disgrace 3': 0.046061722708429294, 'dislike 3': 0.10799136069114471, 'dismay 3': 0.056369785794813977, 'disrespect 3': 0.032268473701193935, 'dissonance 3': 0.0764525993883792, 'distance 3': 0.042927666881305004, 'disturbance 3': 0.024588148512417016, 'dominance 3': 0.058997050147492625, 'dullness 3': 0.061012812690665039, 'eagerness 3': 0.16, 'easiness 3': 0.061957868649318466, 'ecstasy 3': 0.03718854592785422, 'ecstasy 2': 0.44247787610619471, 'ego 3': 0.037481259370314844, 'emptiness 3': 0.058072009291521488, 'engagement 3': 0.025833118057349523, 'enjoyment 3': 0.10822510822510822, 'exploitation 3': 0.074571215510812833, 'fascination 3': 0.092081031307550645, 'fate 3': 0.04065040650406504, 'fatigue 3': 0.027948574622694244, 'fear 3': 0.045330915684496827, 'flatness 3': 0.058719906048150326, 'fortune 3': 0.0414765657403567, 'freedom 3': 0.15948963317384371, 'grace 3': 0.043687199650502405, 'guilt 3': 0.13054830287206268, 'harmony 3': 0.061996280223186609, 'honor 3': 0.02615062761506276, 'honor 2': 0.27548209366391185, 'hopefulness 3': 0.10672358591248667, 'hostility 3': 0.1040582726326743, 'hurt 3': 0.02246686137946529, 'ignorance 3': 0.35842293906810035, 'importance 3': 0.14025245441795231, 'impulse 3': 0.028571428571428571, 'indulgence 3': 0.039385584875935409, 'inferiority 3': 0.22222222222222221, 'innocence 3': 0.11467889908256881, 'inspiration 3': 0.07745933384972889, 'intensity 3': 0.052301255230125521, 'interest 3': 0.017889087656529516, 'intrigue 3': 0.049627791563275438, 'irritation 3': 0.053648068669527899, 'joy 3': 0.082236842105263164, 'keenness 3': 0.054674685620557682, 'liberation 3': 0.029222676797194622, 'lifelessness 3': 0.21367521367521367, 'loss 3': 0.03151591553734636, 'love 3': 0.02246686137946529, 'luck 3': 0.044863167339614179, 'luckiness 3': 0.068493150684931503, 'lunacy 3': 0.04208754208754209, 'lust 3': 0.11587485515643106, 'modesty 3': 0.18083182640144665, 'motivation 3': 0.065746219592373437, 'negation 3': 0.20964360587002095, 'negativeness 3': 0.0764525993883792, 'neglect 3': 0.03551136363636364, 'peacefulness 3': 0.13908205841446453, 'perturbation 3': 0.049652432969215489, 'pleasantness 3': 0.18484288354898337, 'pleasure 3': 0.04791566842357451, 'pleasure 2': 0.5376344086021505, 'positiveness 3': 0.066800267201068811, 'power 3': 0.027878449958182325, 'rage 3': 0.033726812816188868, 'reception 3': 0.05583472920156337, 'regret 3': 0.053022269353128315, 'relaxation 3': 0.0471253534401508, 'reliability 3': 0.65359477124183007, 'relief 3': 0.018573551263001486, 'reservation 3': 0.057110222729868647, 'resistance 3': 0.068634179821551136, 'respect 3': 0.022075055187637971, 'safety 3': 0.059772863120143453, 'saltiness 3': 0.064267352185089971, 'satisfaction 3': 0.068027210884353748, 'scorn 3': 0.072254335260115612, 'serenity 3': 0.11123470522803114, 'shame 3': 0.023551577955723033, 'shock 3': 0.017869907076483203, 'sourness 3': 0.11173184357541899, 'spirit 3': 0.028943560057887119, 'spite 3': 0.030543677458766034, 'straightness 3': 0.042881646655231559, 'strength 3': 0.045620437956204379, 'stress 3': 0.024746349913387776, 'stubbornness 3': 0.093896713615023469, 'submission 3': 0.052687038988408853, 'sulkiness 3': 0.10040160642570281, 'sunniness 3': 0.071073205401563616, 'surprise 3': 0.027151778441487917, 'sweetness 3': 0.086805555555555552, 'tenaciousness 3': 0.1519756838905775, 'tenacity 3': 0.1519756838905775, 'tenseness 3': 0.053050397877984087, 'thrill 3': 0.037306472673008767, 'triumph 3': 0.051934562451311346, 'trust 3': 0.017677214071062399, 'unification 3': 0.10152284263959391, 'unity 3': 0.04928536224741252, 'validation 3': 0.082372322899505759, 'vigor 3': 0.050942435048395317, 'withdrawal 3': 0.085689802913453295, 'wonder 3': 0.061881188118811881, 'worry 3': 0.026874496103198066, 'aversion 3': 0.31746031746031744}\n",
      "time required: 0.008129000000000275\n"
     ]
    }
   ],
   "source": [
    "import time\n",
    "t1 = time.clock()\n",
    "print(aff_ai.score(\"lemon cake\"))\n",
    "print(aff_ai.score(\"why did you choose lemon cake\"))\n",
    "t2 = time.clock()\n",
    "print('time required:',t2-t1)"
   ]
  },
  {
   "cell_type": "markdown",
   "metadata": {},
   "source": [
    "### Test Scorer Storage and Retrieval"
   ]
  },
  {
   "cell_type": "code",
   "execution_count": 14,
   "metadata": {
    "collapsed": true
   },
   "outputs": [],
   "source": [
    "from sklearn.externals import joblib\n",
    "import copy"
   ]
  },
  {
   "cell_type": "code",
   "execution_count": 15,
   "metadata": {},
   "outputs": [
    {
     "data": {
      "text/plain": [
       "['affect_ai_8-27-2017']"
      ]
     },
     "execution_count": 15,
     "metadata": {},
     "output_type": "execute_result"
    }
   ],
   "source": [
    "joblib.dump(aff_ai, 'affect_ai_8-27-2017')"
   ]
  },
  {
   "cell_type": "code",
   "execution_count": 16,
   "metadata": {
    "collapsed": true
   },
   "outputs": [],
   "source": [
    "aa2 = joblib.load('affect_ai_8-27-2017')"
   ]
  },
  {
   "cell_type": "code",
   "execution_count": 18,
   "metadata": {},
   "outputs": [
    {
     "data": {
      "text/plain": [
       "{'aversion 3': 0.31746031746031744,\n",
       " 'defeat 3': 0.038095238095238099,\n",
       " 'distance 3': 0.021463833440652502,\n",
       " 'reception 3': 0.027917364600781685,\n",
       " 'safety 3': 0.029886431560071727,\n",
       " 'thrill 3': 0.018653236336504384,\n",
       " 'triumph 3': 0.025967281225655673}"
      ]
     },
     "execution_count": 18,
     "metadata": {},
     "output_type": "execute_result"
    }
   ],
   "source": [
    "aa2.score('gimme lemons cake yum')"
   ]
  },
  {
   "cell_type": "code",
   "execution_count": null,
   "metadata": {
    "collapsed": true
   },
   "outputs": [],
   "source": []
  }
 ],
 "metadata": {
  "kernelspec": {
   "display_name": "Python 3",
   "language": "python",
   "name": "python3"
  },
  "language_info": {
   "codemirror_mode": {
    "name": "ipython",
    "version": 3
   },
   "file_extension": ".py",
   "mimetype": "text/x-python",
   "name": "python",
   "nbconvert_exporter": "python",
   "pygments_lexer": "ipython3",
   "version": "3.6.1"
  }
 },
 "nbformat": 4,
 "nbformat_minor": 2
}
