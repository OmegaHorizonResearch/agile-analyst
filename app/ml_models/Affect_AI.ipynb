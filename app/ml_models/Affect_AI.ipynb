{
 "cells": [
  {
   "cell_type": "code",
   "execution_count": 1,
   "metadata": {
    "collapsed": true
   },
   "outputs": [],
   "source": [
    "%load_ext autoreload\n",
    "%autoreload 2\n",
    "\n",
    "import affect_ai\n",
    "import pandas as pd\n",
    "import numpy as np"
   ]
  },
  {
   "cell_type": "code",
   "execution_count": 2,
   "metadata": {
    "collapsed": true
   },
   "outputs": [],
   "source": [
    "aff_ai = affect_ai.affect_AI()"
   ]
  },
  {
   "cell_type": "markdown",
   "metadata": {},
   "source": [
    "### Load and Preprocess Training Data"
   ]
  },
  {
   "cell_type": "code",
   "execution_count": 3,
   "metadata": {},
   "outputs": [
    {
     "name": "stdout",
     "output_type": "stream",
     "text": [
      "                          ['agony 3', 'anguish 3', 'attraction 3']\n",
      "fawn                                                              \n",
      "convolute        ['alarm 3', 'dismay 3', 'fatigue 3', 'flatness...\n",
      "conjury                                             ['devotion 3']\n",
      "daftness         ['foolishness 3', 'foolishness 2', 'fury 3', '...\n",
      "visual property  ['anger 3', 'badness 3', 'boredom 3', 'brightn...\n",
      "snack bar                                         ['acceptance 3']                     19\n",
      "worry 1               \n",
      "affectionateness 1  12\n",
      "eroticism 2         16\n",
      "eroticism 3         85\n",
      "negation 2          56\n",
      "eroticism 1          9\n"
     ]
    }
   ],
   "source": [
    "vocab = pd.DataFrame.from_csv('../../data/pairing_01(2017-08-21 00:03:13.056).csv')\n",
    "sizes = pd.DataFrame.from_csv('../../data/pairing_02(2017-08-21 00:01:41.166).csv')\n",
    "print(vocab.head(), sizes.head())"
   ]
  },
  {
   "cell_type": "code",
   "execution_count": 4,
   "metadata": {},
   "outputs": [],
   "source": [
    "# clean_vocab = vocab.filter(regex=\"(\\w+(\\S))\")\n",
    "clean_vocab = pd.DataFrame()\n",
    "for row in range(len(vocab)):\n",
    "    # print (vocab.iloc[row].name.split(\" \"))\n",
    "    if len(vocab.iloc[row].name.split(\" \")) == 1:\n",
    "        entries = vocab.iloc[row][0][1:-1]\n",
    "        entries = entries.replace(\"'\",\"\")\n",
    "        entries = entries.split(', ')\n",
    "        clean_vocab = clean_vocab.append(entries)"
   ]
  },
  {
   "cell_type": "code",
   "execution_count": 5,
   "metadata": {},
   "outputs": [
    {
     "name": "stdout",
     "output_type": "stream",
     "text": [
      "                  0\n",
      "0           alarm 3\n",
      "1          dismay 3\n",
      "2         fatigue 3\n",
      "3        flatness 3\n",
      "4         impulse 3\n",
      "5          insult 3\n",
      "6         outrage 3\n",
      "7      quirkiness 3\n",
      "8   reinforcement 3\n",
      "9          safety 3\n",
      "10   straightness 3\n",
      "0        devotion 3\n",
      "0     foolishness 3\n",
      "1     foolishness 2\n",
      "2            fury 3\n",
      "3      indulgence 3\n",
      "4      indulgence 2\n",
      "5          lunacy 3\n",
      "6          lunacy 2\n",
      "7     playfulness 3\n",
      "8            rage 3\n",
      "9       stupidity 3\n",
      "10          wrath 3\n",
      "0           blame 3\n",
      "1         concern 3\n",
      "2      confidence 3\n",
      "3          denial 3\n",
      "4            fear 3\n",
      "5       isolation 3\n",
      "6          relief 3\n",
      "..              ...\n",
      "36         thrill 3\n",
      "37          trust 3\n",
      "38          worry 3\n",
      "0        ambiance 3\n",
      "1   consideration 3\n",
      "2        darkness 3\n",
      "3         despair 3\n",
      "4       dominance 3\n",
      "5             ego 3\n",
      "6       emptiness 3\n",
      "7            fate 3\n",
      "8         fortune 3\n",
      "9           guilt 3\n",
      "10    hopefulness 3\n",
      "11      innocence 3\n",
      "12           luck 3\n",
      "13     motivation 3\n",
      "14  reinforcement 3\n",
      "15     resistance 3\n",
      "16         safety 3\n",
      "17     submission 3\n",
      "18      tenseness 3\n",
      "0        devotion 3\n",
      "0      attraction 3\n",
      "1     disturbance 3\n",
      "0      abhorrence 3\n",
      "1     abomination 3\n",
      "2           agony 3\n",
      "3           alarm 3\n",
      "4           anger 3\n",
      "\n",
      "[100 rows x 1 columns]\n",
      "alarm 3 0\n"
     ]
    }
   ],
   "source": [
    "print(clean_vocab.head(100))\n",
    "print(clean_vocab.iloc[0][0], clean_vocab.iloc[0].name)"
   ]
  },
  {
   "cell_type": "code",
   "execution_count": 6,
   "metadata": {},
   "outputs": [
    {
     "name": "stdout",
     "output_type": "stream",
     "text": [
      "373271 373271\n"
     ]
    }
   ],
   "source": [
    "print(len(clean_vocab), clean_vocab.shape[0])"
   ]
  },
  {
   "cell_type": "code",
   "execution_count": 7,
   "metadata": {
    "collapsed": true
   },
   "outputs": [],
   "source": [
    "weights = {}\n",
    "for row in range(len(sizes)):\n",
    "    weights[sizes.iloc[row].name] = 100 / sizes.iloc[row][0]"
   ]
  },
  {
   "cell_type": "code",
   "execution_count": 8,
   "metadata": {},
   "outputs": [
    {
     "name": "stdout",
     "output_type": "stream",
     "text": [
      "{'affectionateness 1': 8.3333333333333339, 'eroticism 2': 6.25, 'eroticism 3': 1.1764705882352942, 'negation 2': 1.7857142857142858, 'eroticism 1': 11.111111111111111, 'attraction 3': 0.027359781121751026, 'attraction 2': 0.34129692832764508, 'attraction 1': 7.1428571428571432, 'vengefulness 1': 33.333333333333336, 'animation 1': 4.5454545454545459, 'agony 3': 0.11049723756906077, 'animation 3': 0.11507479861910241, 'animation 2': 0.96153846153846156, 'surprise 2': 0.32258064516129031, 'keenness 3': 0.054674685620557682, 'rejection 1': 14.285714285714286, 'agony 1': 14.285714285714286, 'ridicule 1': 6.25, 'ridicule 3': 0.070671378091872794, 'keenness 1': 7.6923076923076925, 'incapableness 1': 25.0, 'humiliation 1': 8.3333333333333339, 'humiliation 2': 0.59171597633136097, 'humiliation 3': 0.067204301075268813, 'spite 1': 4.3478260869565215, 'guilt 3': 0.13054830287206268, 'vulnerability 3': 0.19305019305019305, 'unification 3': 0.10152284263959391, 'surprise 1': 6.25, 'power 3': 0.027878449958182325, 'unification 1': 10.0, 'inadequacy 2': 2.1276595744680851, 'inadequacy 3': 0.17921146953405018, 'inadequacy 1': 14.285714285714286, 'tenderness 3': 0.07158196134574088, 'tenderness 2': 0.61728395061728392, 'preoccupation 3': 0.1267427122940431, 'keenness 2': 0.54347826086956519, 'anger 2': 0.28490028490028491, 'anger 3': 0.029308323563892145, 'anger 1': 5.0, 'vulnerability 2': 1.8181818181818181, 'satisfaction 2': 0.76923076923076927, 'satisfaction 3': 0.068027210884353748, 'satisfaction 1': 7.6923076923076925, 'outrage 2': 0.30303030303030304, 'outrage 3': 0.034698126301179737, 'outrage 1': 2.9411764705882355, 'exuberance 2': 1.0638297872340425, 'exuberance 3': 0.12953367875647667, 'liberality 3': 0.78125, 'exuberance 1': 11.111111111111111, 'frustration 1': 9.0909090909090917, 'frustration 2': 0.93457943925233644, 'frustration 3': 0.074460163812360383, 'motivation 1': 11.111111111111111, 'reliability 1': 20.0, 'reliability 3': 0.65359477124183007, 'reliability 2': 5.5555555555555554, 'vulnerability 1': 33.333333333333336, 'audaciousness 1': 10.0, 'audaciousness 2': 0.90909090909090906, 'audaciousness 3': 0.069060773480662987, 'straightness 1': 5.5555555555555554, 'negativeness 3': 0.0764525993883792, 'panic 2': 1.3513513513513513, 'panic 3': 0.13404825737265416, 'panic 1': 8.3333333333333339, 'negativeness 1': 16.666666666666668, 'courageousness 2': 2.0, 'courageousness 3': 0.21739130434782608, 'passionateness 2': 2.0, 'courageousness 1': 25.0, 'vileness 2': 2.5641025641025643, 'paralysis 1': 33.333333333333336, 'paralysis 3': 5.5555555555555554, 'paralysis 2': 14.285714285714286, 'fatigue 2': 0.29498525073746312, 'fatigue 3': 0.027948574622694244, 'fatigue 1': 3.5714285714285716, 'boredom 3': 3.4482758620689653, 'boredom 2': 10.0, 'boredom 1': 33.333333333333336, 'sourness 1': 7.6923076923076925, 'impulse 1': 4.3478260869565215, 'impulse 2': 0.32154340836012862, 'impulse 3': 0.028571428571428571, 'appraisal 2': 1.7857142857142858, 'appraisal 3': 0.14285714285714285, 'appraisal 1': 11.111111111111111, 'amazement 3': 0.21231422505307856, 'amazement 2': 3.3333333333333335, 'amazement 1': 50.0, 'engagement 2': 0.23752969121140141, 'disappointment 3': 0.37878787878787878, 'disappointment 2': 3.3333333333333335, 'disappointment 1': 25.0, 'distrust 3': 0.17513134851138354, 'shyness 2': 16.666666666666668, 'shyness 3': 3.0303030303030303, 'power 2': 0.22779043280182232, 'shyness 1': 33.333333333333336, 'mournfulness 1': 33.333333333333336, 'mournfulness 3': 1.3333333333333333, 'mournfulness 2': 7.6923076923076925, 'nostalgia 3': 0.84033613445378152, 'nostalgia 2': 12.5, 'nostalgia 1': 33.333333333333336, 'aloofness 3': 0.18939393939393939, 'aloofness 2': 2.3255813953488373, 'aloofness 1': 14.285714285714286, 'uselessness 3': 0.38610038610038611, 'withdrawal 2': 0.76923076923076927, 'vanity 3': 0.13568521031207598, 'rebellion 2': 1.075268817204301, 'skepticism 1': 8.3333333333333339, 'skepticism 2': 3.5714285714285716, 'ignorance 2': 3.7037037037037037, 'inspiration 1': 6.666666666666667, 'antipathy 1': 25.0, 'ignorance 1': 33.333333333333336, 'antipathy 3': 0.3546099290780142, 'antipathy 2': 3.225806451612903, 'threat 2': 0.84745762711864403, 'unpredictability 3': 1.1235955056179776, 'incapableness 3': 1.408450704225352, 'sweetness 3': 0.086805555555555552, 'snoopiness 2': 10.0, 'concern 1': 4.166666666666667, 'incapableness 2': 5.882352941176471, 'woe 1': 12.5, 'shock 1': 1.5151515151515151, 'shock 3': 0.017869907076483203, 'shock 2': 0.13736263736263737, 'sunniness 3': 0.071073205401563616, 'alteration 1': 10.0, 'sunniness 1': 16.666666666666668, 'remorse 2': 3.5714285714285716, 'remorse 3': 0.43103448275862066, 'remorse 1': 16.666666666666668, 'assimilation 3': 0.26385224274406333, 'assimilation 2': 1.9230769230769231, 'assimilation 1': 11.111111111111111, 'stubbornness 3': 0.093896713615023469, 'enragement 2': 2.7027027027027026, 'enragement 3': 0.25839793281653745, 'enragement 1': 25.0, 'astonishment 3': 0.21231422505307856, 'astonishment 2': 3.3333333333333335, 'astonishment 1': 50.0, 'stubbornness 1': 7.6923076923076925, 'devastation 3': 0.047460844803037493, 'devastation 2': 0.58139534883720934, 'devastation 1': 7.1428571428571432, 'obsession 1': 25.0, 'consonance 1': 20.0, 'consonance 3': 0.19880715705765409, 'consonance 2': 3.225806451612903, 'resentment 1': 14.285714285714286, 'tenseness 3': 0.053050397877984087, 'resentment 3': 0.28490028490028491, 'resentment 2': 2.0833333333333335, 'disrespect 2': 0.31446540880503143, 'disrespect 3': 0.032268473701193935, 'lividness 2': 2.4390243902439024, 'disrespect 1': 6.25, 'reservation 3': 0.057110222729868647, 'reservation 2': 0.58139534883720934, 'reservation 1': 4.5454545454545459, 'decency 1': 20.0, 'decency 2': 7.6923076923076925, 'decency 3': 2.2727272727272729, 'serenity 2': 1.0416666666666667, 'dominance 3': 0.058997050147492625, 'wonder 2': 0.62893081761006286, 'dominance 2': 0.63291139240506333, 'awkwardness 1': 5.2631578947368425, 'neglect 2': 0.40322580645161288, 'awkwardness 3': 0.07407407407407407, 'awkwardness 2': 0.75187969924812026, 'love 2': 0.19920318725099601, 'love 3': 0.02246686137946529, 'love 1': 1.9230769230769231, 'despicableness 1': 20.0, 'agony 2': 0.92592592592592593, 'despicableness 3': 2.3809523809523809, 'despicableness 2': 6.25, 'pity 2': 0.99009900990099009, 'pity 3': 0.10672358591248667, 'tenseness 1': 11.111111111111111, 'sunniness 2': 0.73529411764705888, 'pity 1': 5.882352941176471, 'engagement 1': 4.0, 'affection 1': 12.5, 'affection 2': 1.0, 'affection 3': 0.1059322033898305, 'intentness 3': 0.58139534883720934, 'intentness 2': 3.7037037037037037, 'intentness 1': 25.0, 'ignorance 3': 0.35842293906810035, 'dislike 1': 14.285714285714286, 'dislike 2': 1.25, 'dislike 3': 0.10799136069114471, 'belief 3': 0.071428571428571425, 'belief 2': 0.76335877862595425, 'belief 1': 11.111111111111111, 'quietness 2': 2.0408163265306123, 'warmness 1': 8.3333333333333339, 'warmness 2': 0.68965517241379315, 'warmness 3': 0.068587105624142664, 'loathing 2': 2.6315789473684212, 'luck 3': 0.044863167339614179, 'enjoyment 2': 1.408450704225352, 'enjoyment 3': 0.10822510822510822, 'enjoyment 1': 16.666666666666668, 'tenaciousness 1': 12.5, 'sweetness 2': 0.80645161290322576, 'loathing 1': 12.5, 'empathy 1': 50.0, 'empathy 3': 1.098901098901099, 'empathy 2': 11.111111111111111, 'fortune 2': 0.45248868778280543, 'fortune 3': 0.0414765657403567, 'fortune 1': 8.3333333333333339, 'inflammation 3': 0.11061946902654868, 'pleasantness 2': 1.8867924528301887, 'forgiveness 2': 3.5714285714285716, 'forgiveness 3': 0.47169811320754718, 'forgiveness 1': 20.0, 'victimization 3': 0.47393364928909953, 'inflammation 1': 5.882352941176471, 'victimization 1': 14.285714285714286, 'terror 2': 0.63291139240506333, 'straightness 3': 0.042881646655231559, 'unity 3': 0.04928536224741252, 'lousiness 2': 2.6315789473684212, 'lousiness 3': 0.42918454935622319, 'lousiness 1': 10.0, 'thrill 3': 0.018653236336504384, 'hotness 1': 10.0, 'sarcasm 2': 2.2727272727272729, 'hotness 3': 0.13717421124828533, 'hotness 2': 1.2820512820512822, 'coldness 1': 7.6923076923076925, 'shakiness 1': 11.111111111111111, 'coldness 3': 0.55865921787709494, 'coldness 2': 2.2727272727272729, 'arrogance 1': 20.0, 'infection 2': 1.4705882352941178, 'arrogance 3': 0.51020408163265307, 'arrogance 2': 4.166666666666667, 'merriness 1': 25.0, 'pride 1': 8.3333333333333339, 'merriness 3': 0.46296296296296297, 'merriness 2': 8.3333333333333339, 'excitement 2': 0.99009900990099009, 'excitement 3': 0.11627906976744186, 'goodness 2': 3.0303030303030303, 'excitement 1': 6.25, 'pride 3': 0.060132291040288638, 'uniqueness 1': 25.0, 'cloudiness 1': 10.0, 'dread 2': 2.0833333333333335, 'cloudiness 3': 0.26525198938992045, 'cloudiness 2': 1.8867924528301887, 'skepticism 3': 0.65359477124183007, 'nervousness 2': 2.7777777777777777, 'subversion 1': 20.0, 'nervousness 3': 0.43103448275862066, 'compromise 2': 0.45454545454545453, 'compromise 3': 0.033806626098715348, 'compromise 1': 7.6923076923076925, 'restlessness 2': 1.1494252873563218, 'restlessness 3': 0.17761989342806395, 'restlessness 1': 8.3333333333333339, 'tearfulness 2': 9.0909090909090917, 'jubilance 3': 0.5494505494505495, 'fascination 2': 1.2658227848101267, 'fascination 3': 0.092081031307550645, 'angst 3': 10.0, 'worthlessness 2': 3.4482758620689653, 'desire 2': 0.4329004329004329, 'desire 3': 0.040567951318458417, 'liberation 1': 5.5555555555555554, 'desire 1': 8.3333333333333339, 'angst 1': 50.0, 'pain 2': 0.42553191489361702, 'pain 3': 0.045724737082761771, 'pain 1': 3.3333333333333335, 'wonderfulness 3': 1.8867924528301887, 'provocation 3': 0.22831050228310501, 'provocation 2': 1.639344262295082, 'provocation 1': 12.5, 'compulsion 1': 14.285714285714286, 'compulsion 3': 0.95238095238095233, 'compulsion 2': 6.666666666666667, 'neglect 3': 0.03551136363636364, 'reception 1': 8.3333333333333339, 'reception 2': 0.35842293906810035, 'reception 3': 0.027917364600781685, 'determination 2': 0.29239766081871343, 'determination 3': 0.030703101013202335, 'elation 1': 14.285714285714286, 'determination 1': 5.2631578947368425, 'exploitation 2': 0.90909090909090906, 'exploitation 3': 0.074571215510812833, 'exploitation 1': 9.0909090909090917, 'euphoria 1': 25.0, 'encouragement 1': 12.5, 'encouragement 2': 0.92592592592592593, 'encouragement 3': 0.073421439060205582, 'snoopiness 1': 25.0, 'grace 3': 0.043687199650502405, 'gluttony 2': 5.882352941176471, 'grace 1': 3.125, 'straightness 2': 0.46728971962616822, 'uneasiness 3': 0.25380710659898476, 'gluttony 3': 1.4285714285714286, 'sloth 3': 0.38022813688212925, 'optimism 2': 2.2222222222222223, 'lifelessness 2': 1.8867924528301887, 'uselessness 2': 4.5454545454545459, 'adoration 1': 14.285714285714286, 'adoration 2': 1.098901098901099, 'adoration 3': 0.1111111111111111, 'thoughtfulness 1': 10.0, 'unity 2': 0.4854368932038835, 'ridicule 2': 0.88495575221238942, 'dismay 3': 0.056369785794813977, 'dismay 2': 0.64102564102564108, 'dismay 1': 4.5454545454545459, 'infection 3': 0.29761904761904762, 'inferiority 3': 0.22222222222222221, 'inferiority 2': 2.0, 'inferiority 1': 9.0909090909090917, 'peacefulness 3': 0.13908205841446453, 'abstinence 1': 25.0, 'receptiveness 1': 33.333333333333336, 'abstinence 2': 4.0, 'receptiveness 3': 2.4390243902439024, 'receptiveness 2': 9.0909090909090917, 'disorientation 2': 2.1276595744680851, 'disorientation 3': 0.33112582781456956, 'tenaciousness 3': 0.1519756838905775, 'disorientation 1': 12.5, 'inquisitiveness 2': 2.3809523809523809, 'inquisitiveness 3': 0.43478260869565216, 'inquisitiveness 1': 33.333333333333336, 'openness 3': 0.66225165562913912, 'openness 2': 4.166666666666667, 'openness 1': 12.5, 'insecurity 2': 7.1428571428571432, 'innocence 3': 0.11467889908256881, 'tenacity 1': 12.5, 'innocence 2': 1.408450704225352, 'humility 1': 33.333333333333336, 'rejection 3': 0.086355785837651119, 'humility 3': 0.20283975659229209, 'humility 2': 2.7777777777777777, 'tenacity 3': 0.1519756838905775, 'sarcasm 3': 0.24691358024691357, 'spite 2': 0.29850746268656714, 'bashfulness 3': 0.66666666666666663, 'bashfulness 2': 8.3333333333333339, 'bashfulness 1': 50.0, 'elation 3': 0.32467532467532467, 'indulgence 2': 0.43103448275862066, 'indulgence 3': 0.039385584875935409, 'indulgence 1': 4.0, 'reinforcement 1': 5.882352941176471, 'reinforcement 2': 0.46296296296296297, 'reinforcement 3': 0.045662100456621002, 'potency 2': 0.48780487804878048, 'rage 3': 0.033726812816188868, 'rage 2': 0.33670033670033672, 'lifelessness 1': 20.0, 'liberality 2': 4.7619047619047619, 'misery 3': 0.75187969924812026, 'sureness 1': 12.5, 'enlightenment 1': 12.5, 'enlightenment 3': 0.27472527472527475, 'enlightenment 2': 2.1739130434782608, 'liberality 1': 25.0, 'consciousness 1': 14.285714285714286, 'consciousness 2': 4.7619047619047619, 'consciousness 3': 0.90909090909090906, 'luckiness 2': 0.78125, 'luckiness 3': 0.068493150684931503, 'luckiness 1': 11.111111111111111, 'infuriation 3': 0.25839793281653745, 'pessimism 1': 33.333333333333336, 'pessimism 3': 0.45662100456621002, 'infuriation 2': 2.7027027027027026, 'stupidity 2': 1.25, 'invulnerability 1': 33.333333333333336, 'lifelessness 3': 0.21367521367521367, 'invulnerability 2': 1.7543859649122806, 'stubbornness 2': 1.1235955056179776, 'intimacy 1': 10.0, 'intimacy 2': 1.408450704225352, 'intimacy 3': 0.15105740181268881, 'hesitancy 2': 3.3333333333333335, 'depression 1': 3.0303030303030303, 'depression 2': 0.4329004329004329, 'depression 3': 0.039635354736424891, 'easiness 1': 7.6923076923076925, 'loathing 3': 0.33333333333333331, 'easiness 3': 0.061957868649318466, 'easiness 2': 0.79365079365079361, 'boldness 2': 0.82644628099173556, 'boldness 3': 0.064977257959714096, 'boldness 1': 9.0909090909090917, 'negation 3': 0.20964360587002095, 'tearfulness 1': 33.333333333333336, 'tearfulness 3': 1.1111111111111112, 'goodness 1': 33.333333333333336, 'angst 2': 16.666666666666668, 'bewilderment 1': 9.0909090909090917, 'bewilderment 2': 2.3809523809523809, 'bewilderment 3': 0.40816326530612246, 'negation 1': 25.0, 'wonderfulness 1': 33.333333333333336, 'goodness 3': 0.31948881789137379, 'wonderfulness 2': 12.5, 'foolishness 1': 9.0909090909090917, 'foolishness 2': 1.0416666666666667, 'foolishness 3': 0.093196644920782848, 'innocence 1': 8.3333333333333339, 'impulsiveness 1': 50.0, 'impulsiveness 2': 16.666666666666668, 'impulsiveness 3': 11.111111111111111, 'confusion 3': 0.077821011673151752, 'confusion 2': 0.84745762711864403, 'confusion 1': 6.25, 'strength 3': 0.045620437956204379, 'sullenness 1': 16.666666666666668, 'engrossment 2': 1.3698630136986301, 'engrossment 3': 0.19047619047619047, 'engrossment 1': 9.0909090909090917, 'eagerness 2': 1.9607843137254901, 'eagerness 3': 0.16, 'eagerness 1': 12.5, 'spite 3': 0.030543677458766034, 'veneration 3': 0.2247191011235955, 'disturbance 1': 3.225806451612903, 'disturbance 3': 0.024588148512417016, 'disturbance 2': 0.2364066193853428, 'vanity 1': 7.6923076923076925, 'bravery 1': 16.666666666666668, 'bravery 2': 1.4925373134328359, 'bravery 3': 0.15337423312883436, 'loneliness 1': 9.0909090909090917, 'loneliness 2': 1.5873015873015872, 'loneliness 3': 0.18416206261510129, 'alienation 1': 14.285714285714286, 'alienation 2': 0.96153846153846156, 'alienation 3': 0.087183958151700089, 'permanence 2': 5.5555555555555554, 'arousal 2': 1.7857142857142858, 'arousal 3': 0.17953321364452424, 'rebellion 3': 0.10070493454179255, 'arousal 1': 9.0909090909090917, 'withdrawal 1': 5.2631578947368425, 'delight 2': 0.73529411764705888, 'delight 3': 0.069541029207232263, 'fear 2': 0.45454545454545453, 'delight 1': 5.882352941176471, 'trust 1': 2.2727272727272729, 'dread 3': 0.15037593984962405, 'trust 3': 0.017677214071062399, 'trust 2': 0.13297872340425532, 'aggravation 1': 11.111111111111111, 'aggravation 2': 1.0638297872340425, 'aggravation 3': 0.10384215991692627, 'vanity 2': 1.075268817204301, 'dread 1': 20.0, 'threat 3': 0.078125, 'powerlessness 2': 4.166666666666667, 'powerlessness 3': 0.37453183520599254, 'unhappiness 3': 0.14792899408284024, 'powerlessness 1': 33.333333333333336, 'obsession 3': 0.46511627906976744, 'permanence 3': 0.67567567567567566, 'permanence 1': 33.333333333333336, 'sloth 1': 8.3333333333333339, 'neutrality 2': 4.5454545454545459, 'acceptance 1': 4.5454545454545459, 'acceptance 3': 0.059347181008902079, 'acceptance 2': 0.61728395061728392, 'quirkiness 2': 2.5, 'passionateness 3': 0.15673981191222572, 'wonder 3': 0.061881188118811881, 'quirkiness 1': 16.666666666666668, 'numbness 1': 16.666666666666668, 'suspicion 3': 0.08347245409015025, 'numbness 3': 0.86956521739130432, 'numbness 2': 4.166666666666667, 'freedom 3': 0.15948963317384371, 'fate 1': 5.2631578947368425, 'fate 2': 0.47393364928909953, 'fate 3': 0.04065040650406504, 'gayness 1': 12.5, 'inadequateness 3': 1.5625, 'gayness 3': 0.23148148148148148, 'gayness 2': 2.2727272727272729, 'curiosity 1': 10.0, 'curiosity 2': 1.1494252873563218, 'curiosity 3': 0.19379844961240311, 'doubtfulness 1': 10.0, 'doubtfulness 2': 1.6129032258064515, 'doubtfulness 3': 0.20040080160320642, 'tenaciousness 2': 1.8518518518518519, 'insignificance 2': 20.0, 'safety 3': 0.029886431560071727, 'safety 1': 4.7619047619047619, 'ecstasy 3': 0.03718854592785422, 'ecstasy 2': 0.44247787610619471, 'ecstasy 1': 5.0, 'disgust 1': 9.0909090909090917, 'disgust 2': 0.69444444444444442, 'disgust 3': 0.050916496945010187, 'gratification 1': 33.333333333333336, 'perplexity 1': 20.0, 'insult 1': 5.882352941176471, 'potency 1': 5.882352941176471, 'insult 3': 0.061050061050061048, 'insult 2': 0.60240963855421692, 'dissonance 1': 12.5, 'seriousness 3': 0.38910505836575876, 'dissonance 3': 0.0764525993883792, 'dissonance 2': 0.85470085470085466, 'doubt 1': 6.666666666666667, 'quietness 3': 0.25706940874035988, 'doubt 3': 0.1303780964797914, 'doubt 2': 1.0, 'saltiness 3': 0.064267352185089971, 'potency 3': 0.057903879559930517, 'saltiness 1': 9.0909090909090917, 'disdain 1': 5.0, 'disdain 3': 0.072992700729927001, 'disdain 2': 0.69930069930069927, 'uncertainty 1': 10.0, 'uncertainty 3': 0.25641025641025639, 'uncertainty 2': 2.4390243902439024, 'optimism 3': 0.24691358024691357, 'uselessness 1': 33.333333333333336, 'valence 1': 33.333333333333336, 'valence 3': 0.22624434389140272, 'valence 2': 2.1739130434782608, 'reluctance 2': 3.5714285714285716, 'rebellion 1': 12.5, 'reluctance 1': 14.285714285714286, 'dimension 3': 0.032541490400260331, 'dimension 2': 0.33444816053511706, 'dimension 1': 9.0909090909090917, 'fulfillment 3': 0.50505050505050508, 'fulfillment 2': 4.7619047619047619, 'fulfillment 1': 33.333333333333336, 'stolidity 2': 3.125, 'vileness 3': 0.62893081761006286, 'sympathy 2': 1.1235955056179776, 'affliction 1': 14.285714285714286, 'fright 1': 9.0909090909090917, 'affliction 3': 0.12903225806451613, 'affliction 2': 1.3698630136986301, 'obsession 2': 3.125, 'uneasiness 2': 1.5384615384615385, 'tenacity 2': 1.8518518518518519, 'vengefulness 3': 3.8461538461538463, 'blessedness 2': 6.25, 'blessedness 3': 0.65359477124183007, 'stolidity 3': 0.91743119266055051, 'blessedness 1': 25.0, 'wrath 3': 0.14492753623188406, 'interest 1': 2.3809523809523809, 'interest 2': 0.13679890560875513, 'interest 3': 0.017889087656529516, 'patience 3': 0.76335877862595425, 'patience 2': 5.882352941176471, 'patience 1': 16.666666666666668, 'melancholy 1': 11.111111111111111, 'melancholy 2': 1.5384615384615385, 'sullenness 3': 0.44642857142857145, 'unification 2': 0.76923076923076927, 'distress 3': 0.060459492140266025, 'vengefulness 2': 9.0909090909090917, 'melancholy 3': 0.21367521367521367, 'dullness 2': 0.59523809523809523, 'dullness 3': 0.061012812690665039, 'dullness 1': 6.666666666666667, 'submission 1': 6.25, 'submission 2': 0.51813471502590669, 'submission 3': 0.052687038988408853, 'distress 1': 7.6923076923076925, 'motivation 2': 0.90090090090090091, 'motivation 3': 0.065746219592373437, 'sarcasm 1': 12.5, 'anxiety 1': 25.0, 'anxiety 3': 1.2195121951219512, 'anxiety 2': 14.285714285714286, 'contrariness 3': 2.4390243902439024, 'contrariness 2': 5.882352941176471, 'contrariness 1': 10.0, 'irritation 2': 0.46082949308755761, 'lunacy 3': 0.04208754208754209, 'furiousness 3': 0.24154589371980675, 'furiousness 2': 1.8518518518518519, 'furiousness 1': 12.5, 'fascination 1': 12.5, 'stolidity 1': 11.111111111111111, 'lunacy 1': 7.6923076923076925, 'awareness 1': 16.666666666666668, 'awareness 2': 4.0, 'awareness 3': 0.75187969924812026, 'intrigue 3': 0.049627791563275438, 'intrigue 2': 0.63694267515923564, 'intrigue 1': 9.0909090909090917, 'sweetness 1': 5.0, 'liberation 3': 0.029222676797194622, 'worthlessness 1': 20.0, 'thoughtfulness 3': 0.2109704641350211, 'liberation 2': 0.3105590062111801, 'mania 1': 12.5, 'hesitancy 1': 10.0, 'mania 3': 0.37037037037037035, 'mania 2': 2.8571428571428572, 'jubilance 2': 4.166666666666667, 'abstinence 3': 0.45871559633027525, 'jubilance 1': 16.666666666666668, 'petrification 2': 9.0909090909090917, 'petrification 3': 0.59171597633136097, 'petrification 1': 33.333333333333336, 'hardiness 2': 1.7543859649122806, 'hardiness 3': 0.25839793281653745, 'hardiness 1': 14.285714285714286, 'aggressiveness 1': 12.5, 'gluttony 1': 20.0, 'aggressiveness 3': 0.052521008403361345, 'aggressiveness 2': 0.8928571428571429, 'worry 2': 0.32258064516129031, 'honor 3': 0.02615062761506276, 'honor 2': 0.27548209366391185, 'honor 1': 4.7619047619047619, 'sobriety 3': 0.17482517482517482, 'unhappiness 1': 25.0, 'reluctance 3': 0.84033613445378152, 'infuriation 1': 25.0, 'horror 1': 12.5, 'horror 2': 1.3698630136986301, 'horror 3': 0.1287001287001287, 'chastity 3': 0.65789473684210531, 'chastity 2': 3.8461538461538463, 'chastity 1': 16.666666666666668, 'bitterness 3': 0.09950248756218906, 'bitterness 2': 0.8771929824561403, 'bitterness 1': 5.0, 'unhappiness 2': 1.4492753623188406, 'shame 3': 0.023551577955723033, 'inducement 1': 16.666666666666668, 'inducement 2': 6.666666666666667, 'inducement 3': 1.075268817204301, 'nonchalance 3': 1.25, 'nonchalance 2': 4.3478260869565215, 'nonchalance 1': 33.333333333333336, 'tenseness 2': 0.66225165562913912, 'loss 3': 0.03151591553734636, 'loss 2': 0.29761904761904762, 'loss 1': 4.0, 'hope 1': 3.7037037037037037, 'hope 2': 0.37174721189591076, 'hope 3': 0.0414765657403567, 'abandonment 2': 1.7241379310344827, 'abandonment 3': 0.2544529262086514, 'abandonment 1': 14.285714285714286, 'reenforcement 1': 20.0, 'reenforcement 2': 0.7142857142857143, 'reenforcement 3': 0.062305295950155763, 'courage 1': 25.0, 'distress 2': 0.54644808743169404, 'courage 3': 0.21739130434782608, 'courage 2': 2.0, 'covetousness 1': 10.0, 'covetousness 3': 0.7142857142857143, 'covetousness 2': 3.3333333333333335, 'awe 1': 9.0909090909090917, 'awe 2': 1.098901098901099, 'awe 3': 0.13003901170351106, 'anticipation 1': 10.0, 'anticipation 3': 0.19880715705765409, 'anticipation 2': 1.408450704225352, 'unpleasantness 1': 33.333333333333336, 'surprise 3': 0.027151778441487917, 'sympathy 3': 0.10010010010010011, 'embarrassment 2': 0.67567567567567566, 'preoccupation 1': 9.0909090909090917, 'despair 1': 25.0, 'embarrassment 1': 10.0, 'despair 3': 0.091407678244972576, 'despair 2': 1.4285714285714286, 'positiveness 2': 0.77519379844961245, 'positiveness 3': 0.066800267201068811, 'positiveness 1': 5.5555555555555554, 'quirkiness 3': 0.21598272138228941, 'aliveness 1': 11.111111111111111, 'aliveness 3': 0.16233766233766234, 'aliveness 2': 1.3888888888888888, 'endurance 1': 16.666666666666668, 'endurance 2': 0.94339622641509435, 'endurance 3': 0.12755102040816327, 'spiritedness 3': 0.37037037037037035, 'engagement 3': 0.025833118057349523, 'powerfulness 2': 1.639344262295082, 'distrust 1': 7.1428571428571432, 'suspicion 2': 0.76335877862595425, 'guilt 2': 1.9230769230769231, 'distrust 2': 1.3513513513513513, 'neutrality 1': 14.285714285714286, 'guilt 1': 11.111111111111111, 'respect 3': 0.022075055187637971, 'suspicion 1': 4.7619047619047619, 'understanding 1': 6.666666666666667, 'exhaustion 1': 12.5, 'exhaustion 2': 2.4390243902439024, 'exhaustion 3': 0.23696682464454977, 'hate 2': 10.0, 'disillusionment 1': 25.0, 'disillusionment 2': 4.7619047619047619, 'disillusionment 3': 1.1764705882352942, 'passion 2': 0.4784688995215311, 'passion 3': 0.050251256281407038, 'passion 1': 4.5454545454545459, 'gallantry 3': 0.72992700729927007, 'gallantry 2': 3.8461538461538463, 'gallantry 1': 7.1428571428571432, 'freedom 2': 1.7857142857142858, 'persuasion 1': 12.5, 'freedom 1': 25.0, 'persuasion 3': 0.088652482269503549, 'persuasion 2': 1.0869565217391304, 'consideration 3': 0.060864272671941569, 'consideration 2': 0.67114093959731547, 'consideration 1': 5.5555555555555554, 'terribleness 2': 12.5, 'terribleness 3': 1.7857142857142858, 'terribleness 1': 25.0, 'kindness 1': 14.285714285714286, 'inadequateness 2': 12.5, 'kindness 3': 0.14492753623188406, 'kindness 2': 1.5625, 'respect 1': 2.7777777777777777, 'stupidity 1': 12.5, 'understanding 3': 0.063572790845518118, 'ambiance 2': 1.0416666666666667, 'ambiance 3': 0.060422960725075532, 'ambiance 1': 12.5, 'regret 3': 0.053022269353128315, 'regret 2': 0.60240963855421692, 'regret 1': 8.3333333333333339, 'inadequateness 1': 50.0, 'calmness 2': 1.2820512820512822, 'calmness 3': 0.12360939431396786, 'pleasantness 1': 25.0, 'calmness 1': 14.285714285714286, 'tolerance 3': 0.083752093802345065, 'closeness 1': 5.0, 'woefulness 1': 25.0, 'shakiness 3': 0.14025245441795231, 'woefulness 2': 9.0909090909090917, 'snoopiness 3': 1.4705882352941178, 'sulky 2': 100.0, 'sulky 1': 100.0, 'understanding 2': 0.61728395061728392, 'triumph 1': 2.9411764705882355, 'triumph 2': 0.24570024570024571, 'triumph 3': 0.025967281225655673, 'victimization 2': 3.225806451612903, 'spiritedness 2': 2.5, 'validation 1': 16.666666666666668, 'spiritedness 1': 16.666666666666668, 'validation 3': 0.082372322899505759, 'validation 2': 1.25, 'contentment 2': 25.0, 'contentment 3': 1.5151515151515151, 'power 1': 2.3255813953488373, 'contentment 1': 100.0, 'negativeness 2': 1.0101010101010102, 'capableness 1': 25.0, 'capableness 2': 5.882352941176471, 'capableness 3': 0.84745762711864403, 'crossness 2': 2.5641025641025643, 'crossness 3': 0.45871559633027525, 'crossness 1': 8.3333333333333339, 'serenity 1': 6.25, 'hesitancy 3': 0.81967213114754101, 'sulkiness 2': 0.8928571428571429, 'sulkiness 3': 0.10040160642570281, 'sulkiness 1': 6.666666666666667, 'alteration 3': 0.097560975609756101, 'alteration 2': 1.0309278350515463, 'concern 3': 0.028042624789680313, 'concern 2': 0.26178010471204188, 'insignificance 3': 2.0, 'brightness 1': 10.0, 'neutrality 3': 0.83333333333333337, 'brightness 3': 0.072463768115942032, 'brightness 2': 0.72992700729927007, 'compassion 2': 2.8571428571428572, 'compassion 3': 0.39215686274509803, 'dominance 1': 6.666666666666667, 'compassion 1': 16.666666666666668, 'safety 2': 0.32573289902280128, 'insignificance 1': 100.0, 'happiness 1': 25.0, 'happiness 2': 1.5151515151515151, 'happiness 3': 0.15174506828528073, 'avoidance 1': 25.0, 'luck 1': 10.0, 'avoidance 3': 0.4784688995215311, 'avoidance 2': 4.3478260869565215, 'friskiness 1': 25.0, 'inflammation 2': 0.93457943925233644, 'friskiness 3': 0.4219409282700422, 'friskiness 2': 5.0, 'lunacy 2': 0.46511627906976744, 'sloth 2': 2.1739130434782608, 'thrill 1': 2.7777777777777777, 'thoughtfulness 2': 1.5873015873015872, 'euphoria 3': 0.5494505494505495, 'uniqueness 2': 4.7619047619047619, 'uniqueness 3': 1.7241379310344827, 'rebelliousness 1': 20.0, 'euphoria 2': 4.7619047619047619, 'aversion 1': 12.5, 'aversion 3': 0.31746031746031744, 'aversion 2': 3.3333333333333335, 'resignation 2': 2.1739130434782608, 'resignation 3': 0.12919896640826872, 'resignation 1': 16.666666666666668, 'disgrace 2': 0.64102564102564108, 'disgrace 3': 0.046061722708429294, 'disgrace 1': 5.5555555555555554, 'fury 2': 0.72463768115942029, 'fury 3': 0.095238095238095233, 'fury 1': 4.166666666666667, 'composure 1': 20.0, 'composure 2': 2.0408163265306123, 'composure 3': 0.24570024570024571, 'envy 1': 7.1428571428571432, 'envy 2': 1.1111111111111112, 'envy 3': 0.13386880856760375, 'greed 1': 14.285714285714286, 'greed 2': 3.225806451612903, 'greed 3': 0.34129692832764508, 'joy 3': 0.082236842105263164, 'darkness 3': 0.047596382674916705, 'darkness 2': 0.46082949308755761, 'darkness 1': 6.666666666666667, 'grace 2': 0.37453183520599254, 'denial 1': 4.3478260869565215, 'joy 1': 10.0, 'denial 3': 0.2032520325203252, 'denial 2': 1.25, 'strength 1': 2.9411764705882355, 'lividness 3': 0.24752475247524752, 'strength 2': 0.45045045045045046, 'jealousy 2': 3.125, 'jealousy 3': 0.66666666666666663, 'jealousy 1': 14.285714285714286, 'relief 3': 0.018573551263001486, 'exasperation 1': 16.666666666666668, 'exasperation 3': 0.11389521640091116, 'exasperation 2': 1.3157894736842106, 'revulsion 1': 25.0, 'terror 1': 4.3478260869565215, 'relief 1': 1.7857142857142858, 'passionateness 1': 50.0, 'uneasiness 1': 6.666666666666667, 'greatness 1': 9.0909090909090917, 'greatness 3': 0.64102564102564108, 'greatness 2': 3.0303030303030303, 'conformity 2': 0.94339622641509435, 'conformity 3': 0.091996320147194111, 'sympathy 1': 12.5, 'conformity 1': 6.666666666666667, 'rebelliousness 2': 3.4482758620689653, 'tolerance 2': 0.95238095238095233, 'sensitivity 2': 0.85470085470085466, 'tolerance 1': 7.6923076923076925, 'revulsion 2': 3.5714285714285716, 'seriousness 2': 1.9230769230769231, 'offensiveness 2': 7.6923076923076925, 'importance 2': 1.639344262295082, 'importance 3': 0.14025245441795231, 'importance 1': 33.333333333333336, 'insecurity 3': 0.59880239520958078, 'amusement 1': 20.0, 'amusement 2': 2.7777777777777777, 'amusement 3': 0.28328611898016998, 'appreciation 3': 0.032164683177870697, 'appreciation 2': 0.30211480362537763, 'appreciation 1': 5.882352941176471, 'seriousness 1': 10.0, 'desolation 1': 6.666666666666667, 'desolation 2': 0.81967213114754101, 'desolation 3': 0.080710250201775621, 'embarrassment 3': 0.068540095956134334, 'certainty 1': 20.0, 'certainty 2': 3.0303030303030303, 'certainty 3': 0.26595744680851063, 'revulsion 3': 0.30864197530864196, 'peacefulness 1': 8.3333333333333339, 'luck 2': 0.48780487804878048, 'indifference 2': 2.6315789473684212, 'indifference 3': 0.81967213114754101, 'indifference 1': 7.1428571428571432, 'threat 1': 8.3333333333333339, 'quietness 1': 14.285714285714286, 'closeness 2': 0.90090090090090091, 'closeness 3': 0.1037344398340249, 'confidence 2': 0.82644628099173556, 'confidence 3': 0.079872204472843447, 'isolation 3': 0.18518518518518517, 'isolation 2': 1.3333333333333333, 'isolation 1': 7.1428571428571432, 'saltiness 2': 0.7142857142857143, 'misery 1': 20.0, 'earnestness 2': 3.4482758620689653, 'earnestness 3': 0.75187969924812026, 'earnestness 1': 16.666666666666668, 'insecurity 1': 50.0, 'hate 3': 1.1904761904761905, 'infatuation 3': 0.063938618925831206, 'infatuation 2': 0.75757575757575757, 'infatuation 1': 14.285714285714286, 'misery 2': 4.7619047619047619, 'sensitivity 1': 7.6923076923076925, 'invulnerability 3': 0.1953125, 'sensitivity 3': 0.084602368866328256, 'powerfulness 3': 0.15600624024960999, 'hesitance 1': 25.0, 'powerfulness 1': 50.0, 'hate 1': 25.0, 'withdrawal 3': 0.085689802913453295, 'infection 1': 7.6923076923076925, 'defeat 1': 5.882352941176471, 'defeat 3': 0.038095238095238099, 'defeat 2': 0.43478260869565216, 'diligence 1': 8.3333333333333339, 'hesitance 3': 3.0303030303030303, 'diligence 3': 0.068259385665529013, 'diligence 2': 0.77519379844961245, 'intensity 1': 7.1428571428571432, 'intensity 2': 0.6097560975609756, 'hesitance 2': 7.6923076923076925, 'alarm 1': 4.3478260869565215, 'alarm 2': 0.53475935828877008, 'alarm 3': 0.049236829148202856, 'admiration 1': 10.0, 'admiration 2': 1.0869565217391304, 'admiration 3': 0.10515247108307045, 'rage 1': 4.7619047619047619, 'peacefulness 2': 1.6129032258064515, 'intensity 3': 0.052301255230125521, 'badness 1': 11.111111111111111, 'woe 3': 0.83333333333333337, 'badness 3': 0.2032520325203252, 'badness 2': 1.3333333333333333, 'withdrawnness 2': 8.3333333333333339, 'withdrawnness 3': 1.6949152542372881, 'preoccupation 2': 1.1904761904761905, 'defiance 1': 20.0, 'gloominess 1': 7.1428571428571432, 'defiance 3': 0.29850746268656714, 'defiance 2': 2.0833333333333335, 'sadness 1': 14.285714285714286, 'enthusiasm 3': 0.06684491978609626, 'enthusiasm 2': 0.61728395061728392, 'enthusiasm 1': 11.111111111111111, 'sourness 3': 0.11173184357541899, 'harmony 3': 0.061996280223186609, 'harmony 2': 0.70422535211267601, 'harmony 1': 11.111111111111111, 'stress 1': 3.7037037037037037, 'stress 2': 0.25575447570332482, 'stress 3': 0.024746349913387776, 'abomination 2': 1.3513513513513513, 'abomination 3': 0.14705882352941177, 'fondness 1': 6.666666666666667, 'abomination 1': 6.25, 'sulky 3': 50.0, 'affectionateness 2': 0.96153846153846156, 'affectionateness 3': 0.09970089730807577, 'blame 1': 5.2631578947368425, 'shakiness 2': 1.4492753623188406, 'modesty 1': 16.666666666666668, 'glee 1': 11.111111111111111, 'modesty 3': 0.18083182640144665, 'glee 3': 0.22172949002217296, 'glee 2': 2.3809523809523809, 'content 2': 0.36231884057971014, 'content 3': 0.034782608695652174, 'relief 2': 0.13755158184319119, 'content 1': 3.8461538461538463, 'serenity 3': 0.11123470522803114, 'fondness 2': 0.76923076923076927, 'lividness 1': 10.0, 'sadness 2': 1.7857142857142858, 'sadness 3': 0.17152658662092624, 'unpredictability 1': 11.111111111111111, 'tragedy 2': 2.6315789473684212, 'modesty 2': 1.9230769230769231, 'elation 2': 3.3333333333333335, 'vigor 2': 0.42553191489361702, 'joy 2': 0.95238095238095233, 'vigor 3': 0.050942435048395317, 'diffidence 3': 2.7777777777777777, 'diffidence 2': 11.111111111111111, 'diffidence 1': 20.0, 'fondness 3': 0.078186082877247848, 'respect 2': 0.18050541516245489, 'vigor 1': 7.1428571428571432, 'sourness 2': 1.0869565217391304, 'edginess 1': 25.0, 'edginess 2': 5.0, 'edginess 3': 1.5151515151515151, 'neglect 1': 4.5454545454545459, 'sobriety 2': 1.4492753623188406, 'sobriety 1': 7.1428571428571432, 'spirit 3': 0.028943560057887119, 'stupidity 3': 0.099108027750247768, 'terror 3': 0.067249495628782782, 'spirit 2': 0.21929824561403508, 'abhorrence 3': 0.33333333333333331, 'abhorrence 2': 2.6315789473684212, 'abhorrence 1': 12.5, 'pride 2': 0.66225165562913912, 'hopefulness 3': 0.10672358591248667, 'hopefulness 2': 1.5151515151515151, 'hopefulness 1': 33.333333333333336, 'nervousness 1': 11.111111111111111, 'hostility 1': 11.111111111111111, 'hostility 2': 0.98039215686274506, 'hostility 3': 0.1040582726326743, 'veneration 1': 12.5, 'apathy 1': 16.666666666666668, 'optimism 1': 33.333333333333336, 'apathy 3': 0.19379844961240311, 'apathy 2': 2.0833333333333335, 'inspiration 3': 0.07745933384972889, 'liveliness 2': 0.92592592592592593, 'liveliness 3': 0.12004801920768307, 'liveliness 1': 11.111111111111111, 'woe 2': 4.5454545454545459, 'veneration 2': 2.0, 'fright 2': 0.5376344086021505, 'resistance 3': 0.068634179821551136, 'resistance 2': 0.75757575757575757, 'resistance 1': 4.5454545454545459, 'fright 3': 0.046728971962616821, 'weariness 1': 33.333333333333336, 'weariness 2': 3.3333333333333335, 'weariness 3': 0.26595744680851063, 'grief 2': 5.5555555555555554, 'grief 3': 0.99009900990099009, 'grief 1': 20.0, 'reproach 2': 1.1764705882352942, 'reproach 3': 0.11600928074245939, 'reproach 1': 7.6923076923076925, 'tragedy 3': 0.24752475247524752, 'inspiration 2': 0.75757575757575757, 'tragedy 1': 14.285714285714286, 'helplessness 1': 11.111111111111111, 'helplessness 3': 0.24691358024691357, 'helplessness 2': 1.4925373134328359, 'disbelief 1': 7.6923076923076925, 'disbelief 2': 1.9607843137254901, 'disbelief 3': 0.2544529262086514, 'playfulness 3': 0.17857142857142858, 'playfulness 2': 1.9230769230769231, 'playfulness 1': 12.5, 'withdrawnness 1': 20.0, 'gratification 3': 0.18587360594795538, 'gratification 2': 1.7857142857142858, 'fear 1': 5.2631578947368425, 'shame 2': 0.24213075060532688, 'festivity 2': 3.7037037037037037, 'festivity 3': 0.32786885245901637, 'festivity 1': 33.333333333333336, 'woefulness 3': 2.8571428571428572, 'thrill 2': 0.14903129657228018, 'lust 1': 6.666666666666667, 'unity 1': 7.1428571428571432, 'gloominess 2': 1.2658227848101267, 'sureness 2': 1.6949152542372881, 'sureness 3': 0.18181818181818182, 'irritation 1': 4.0, 'irritation 3': 0.053648068669527899, 'gloominess 3': 0.13157894736842105, 'unpredictability 2': 2.5641025641025643, 'pleasure 3': 0.04791566842357451, 'pleasure 2': 0.5376344086021505, 'pleasure 1': 7.6923076923076925, 'absorption 3': 0.11337868480725624, 'absorption 2': 0.86956521739130432, 'absorption 1': 5.5555555555555554, 'worry 3': 0.026874496103198066, 'anguish 2': 0.52910052910052907, 'anguish 3': 0.045289855072463768, 'anguish 1': 8.3333333333333339, 'coercion 2': 8.3333333333333339, 'coercion 3': 1.9607843137254901, 'coercion 1': 25.0, 'scorn 2': 0.81300813008130079, 'unpleasantness 2': 1.9607843137254901, 'unpleasantness 3': 0.2109704641350211, 'subversion 2': 2.4390243902439024, 'wonder 1': 3.3333333333333335, 'subversion 3': 0.23752969121140141, 'fear 3': 0.045330915684496827, 'cheerfulness 3': 0.20491803278688525, 'cheerfulness 2': 1.9230769230769231, 'cheerfulness 1': 16.666666666666668, 'flatness 2': 0.59171597633136097, 'flatness 3': 0.058719906048150326, 'flatness 1': 4.3478260869565215, 'cleverness 1': 9.0909090909090917, 'cleverness 2': 1.4492753623188406, 'cleverness 3': 0.23419203747072601, 'reassurance 3': 0.070472163495419307, 'reassurance 2': 1.098901098901099, 'reassurance 1': 100.0, 'scorn 3': 0.072254335260115612, 'sullenness 2': 2.7027027027027026, 'relaxation 1': 3.5714285714285716, 'pleasantness 3': 0.18484288354898337, 'relaxation 3': 0.0471253534401508, 'relaxation 2': 0.42553191489361702, 'contempt 1': 11.111111111111111, 'contempt 2': 1.4705882352941178, 'contempt 3': 0.16556291390728478, 'awfulness 3': 1.7857142857142858, 'awfulness 2': 12.5, 'awfulness 1': 25.0, 'rebelliousness 3': 0.6097560975609756, 'excitation 1': 11.111111111111111, 'gratitude 2': 3.5714285714285716, 'gratitude 3': 0.21367521367521367, 'gratitude 1': 100.0, 'criticalness 1': 33.333333333333336, 'criticalness 2': 7.6923076923076925, 'criticalness 3': 1.2658227848101267, 'tenderness 1': 5.2631578947368425, 'perturbation 1': 12.5, 'perturbation 3': 0.049652432969215489, 'perturbation 2': 0.625, 'cautiousness 1': 33.333333333333336, 'cautiousness 2': 4.0, 'cautiousness 3': 0.51020408163265307, 'familiarity 2': 1.0309278350515463, 'familiarity 3': 0.18975332068311196, 'rejection 2': 1.639344262295082, 'familiarity 1': 6.25, 'wrath 1': 12.5, 'hurt 2': 0.1953125, 'scorn 1': 5.882352941176471, 'emptiness 1': 9.0909090909090917, 'vileness 1': 8.3333333333333339, 'humbleness 1': 14.285714285714286, 'humbleness 2': 2.1739130434782608, 'humbleness 3': 0.17271157167530224, 'wrath 2': 1.0869565217391304, 'spirit 1': 2.2727272727272729, 'lust 2': 1.2195121951219512, 'lust 3': 0.11587485515643106, 'shame 1': 3.5714285714285716, 'emptiness 2': 0.72463768115942029, 'pessimism 2': 4.5454545454545459, 'distance 3': 0.021463833440652502, 'distance 2': 0.20661157024793389, 'distance 1': 5.2631578947368425, 'offensiveness 3': 1.5873015873015872, 'confidence 1': 8.3333333333333339, 'offensiveness 1': 33.333333333333336, 'perplexity 3': 0.46511627906976744, 'blame 2': 0.32154340836012862, 'excitation 2': 1.4285714285714286, 'excitation 3': 0.21008403361344538, 'hurt 1': 2.3809523809523809, 'worthlessness 3': 0.3436426116838488, 'hurt 3': 0.02246686137946529, 'blame 3': 0.029377203290246769, 'ego 2': 0.45045045045045046, 'ego 3': 0.037481259370314844, 'emptiness 3': 0.058072009291521488, 'ego 1': 9.0909090909090917, 'perplexity 2': 3.3333333333333335, 'devotion 1': 8.3333333333333339, 'devotion 2': 0.85470085470085466, 'devotion 3': 0.11976047904191617}\n"
     ]
    }
   ],
   "source": [
    "print(weights)"
   ]
  },
  {
   "cell_type": "markdown",
   "metadata": {},
   "source": [
    "### Train an Instance of Affect AI"
   ]
  },
  {
   "cell_type": "code",
   "execution_count": 55,
   "metadata": {},
   "outputs": [
    {
     "name": "stdout",
     "output_type": "stream",
     "text": [
      "{'c', 'f', 'i', 'm', 'g', 'z', 'r', 'x', '3', 'h', ' ', 'a', 'q', 't', 'u', 's', 'l', 'v', 'd', 'j', '1', '2', 'y', 'p', 'k', 'b', 'w', 'n', 'e', 'o'}\n"
     ]
    },
    {
     "ename": "KeyError",
     "evalue": "0",
     "output_type": "error",
     "traceback": [
      "\u001b[0;31m---------------------------------------------------------------------------\u001b[0m",
      "\u001b[0;31mKeyError\u001b[0m                                  Traceback (most recent call last)",
      "\u001b[0;32m<ipython-input-55-6b8f89f06b8f>\u001b[0m in \u001b[0;36m<module>\u001b[0;34m()\u001b[0m\n\u001b[0;32m----> 1\u001b[0;31m \u001b[0maff_ai\u001b[0m\u001b[0;34m.\u001b[0m\u001b[0mtrain\u001b[0m\u001b[0;34m(\u001b[0m\u001b[0mclean_vocab\u001b[0m\u001b[0;34m,\u001b[0m \u001b[0mweights\u001b[0m\u001b[0;34m)\u001b[0m\u001b[0;34m\u001b[0m\u001b[0m\n\u001b[0m",
      "\u001b[0;32m/home/brian/Documents/Projects/git/agile-analyst/app/ml_models/affect_ai.py\u001b[0m in \u001b[0;36mtrain\u001b[0;34m(self, vocab, weights)\u001b[0m\n\u001b[1;32m     55\u001b[0m         \u001b[0;31m# Store the weights, and then turn stored corpora and keys for weights into symbols.\u001b[0m\u001b[0;34m\u001b[0m\u001b[0;34m\u001b[0m\u001b[0m\n\u001b[1;32m     56\u001b[0m         \u001b[0mself\u001b[0m\u001b[0;34m.\u001b[0m\u001b[0mweights\u001b[0m \u001b[0;34m=\u001b[0m \u001b[0mweights\u001b[0m\u001b[0;34m\u001b[0m\u001b[0m\n\u001b[0;32m---> 57\u001b[0;31m         \u001b[0mself\u001b[0m\u001b[0;34m.\u001b[0m\u001b[0msymbolify\u001b[0m\u001b[0;34m(\u001b[0m\u001b[0;34m)\u001b[0m\u001b[0;34m\u001b[0m\u001b[0m\n\u001b[0m\u001b[1;32m     58\u001b[0m \u001b[0;34m\u001b[0m\u001b[0m\n\u001b[1;32m     59\u001b[0m \u001b[0;34m\u001b[0m\u001b[0m\n",
      "\u001b[0;32m/home/brian/Documents/Projects/git/agile-analyst/app/ml_models/affect_ai.py\u001b[0m in \u001b[0;36msymbolify\u001b[0;34m(self)\u001b[0m\n\u001b[1;32m     96\u001b[0m             \u001b[0;32melse\u001b[0m\u001b[0;34m:\u001b[0m\u001b[0;34m\u001b[0m\u001b[0m\n\u001b[1;32m     97\u001b[0m                 \u001b[0;31m# Do just single symbol replacement.\u001b[0m\u001b[0;34m\u001b[0m\u001b[0;34m\u001b[0m\u001b[0m\n\u001b[0;32m---> 98\u001b[0;31m                 \u001b[0mself\u001b[0m\u001b[0;34m.\u001b[0m\u001b[0mvocab\u001b[0m\u001b[0;34m[\u001b[0m\u001b[0mword\u001b[0m\u001b[0;34m]\u001b[0m \u001b[0;34m=\u001b[0m \u001b[0mself\u001b[0m\u001b[0;34m.\u001b[0m\u001b[0mcorpora\u001b[0m\u001b[0;34m[\u001b[0m\u001b[0mcorp\u001b[0m\u001b[0;34m]\u001b[0m\u001b[0;34m\u001b[0m\u001b[0m\n\u001b[0m\u001b[1;32m     99\u001b[0m         \u001b[0mnew_weights\u001b[0m \u001b[0;34m=\u001b[0m \u001b[0;34m{\u001b[0m\u001b[0;34m}\u001b[0m\u001b[0;34m\u001b[0m\u001b[0m\n\u001b[1;32m    100\u001b[0m         \u001b[0;31m# Now, we need to replace the corpus names in 'weights' with their matching symbol.\u001b[0m\u001b[0;34m\u001b[0m\u001b[0;34m\u001b[0m\u001b[0m\n",
      "\u001b[0;31mKeyError\u001b[0m: 0"
     ]
    }
   ],
   "source": [
    "aff_ai.train(clean_vocab, weights)"
   ]
  },
  {
   "cell_type": "code",
   "execution_count": null,
   "metadata": {},
   "outputs": [],
   "source": [
    "print(aff_ai.vocab)\n"
   ]
  },
  {
   "cell_type": "code",
   "execution_count": null,
   "metadata": {},
   "outputs": [],
   "source": [
    "print(aff_ai.corpora['fatigue 3'])\n"
   ]
  },
  {
   "cell_type": "code",
   "execution_count": 47,
   "metadata": {},
   "outputs": [
    {
     "name": "stdout",
     "output_type": "stream",
     "text": [
      "['alarm 3', 'dismay 3', 'fatigue 3', 'flatness 3', 'impulse 3', 'insult 3', 'outrage 3', 'quirkiness 3', 'reinforcement 3', 'safety 3', 'straightness 3'] <class 'list'> ['alarm 3', 'dismay 3'] <class 'str'>\n"
     ]
    }
   ],
   "source": [
    "entries = clean_vocab.iloc[0][0][1:-1]\n",
    "entries = entries.replace(\"'\",\"\")\n",
    "entries = entries.split(', ')\n",
    "print(entries, type(entries), entries[0:2], type(entries[0]))"
   ]
  },
  {
   "cell_type": "code",
   "execution_count": null,
   "metadata": {
    "collapsed": true
   },
   "outputs": [],
   "source": []
  }
 ],
 "metadata": {
  "kernelspec": {
   "display_name": "Python 3",
   "language": "python",
   "name": "python3"
  },
  "language_info": {
   "codemirror_mode": {
    "name": "ipython",
    "version": 3
   },
   "file_extension": ".py",
   "mimetype": "text/x-python",
   "name": "python",
   "nbconvert_exporter": "python",
   "pygments_lexer": "ipython3",
   "version": "3.6.1"
  }
 },
 "nbformat": 4,
 "nbformat_minor": 2
}
