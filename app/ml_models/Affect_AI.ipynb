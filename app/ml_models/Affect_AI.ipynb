{
 "cells": [
  {
   "cell_type": "code",
   "execution_count": 154,
   "metadata": {},
   "outputs": [],
   "source": [
    "import affect_ai\n",
    "import pandas as pd\n",
    "import numpy as np"
   ]
  },
  {
   "cell_type": "code",
   "execution_count": 155,
   "metadata": {},
   "outputs": [],
   "source": [
    "aff_ai = affect_ai.affect_AI()"
   ]
  },
  {
   "cell_type": "code",
   "execution_count": 84,
   "metadata": {},
   "outputs": [
    {
     "name": "stdout",
     "output_type": "stream",
     "text": [
      "                          ['agony 3', 'anguish 3', 'attraction 3']\n",
      "fawn                                                              \n",
      "convolute        ['alarm 3', 'dismay 3', 'fatigue 3', 'flatness...\n",
      "conjury                                             ['devotion 3']\n",
      "daftness         ['foolishness 3', 'foolishness 2', 'fury 3', '...\n",
      "visual property  ['anger 3', 'badness 3', 'boredom 3', 'brightn...\n",
      "snack bar                                         ['acceptance 3']                     19\n",
      "worry 1               \n",
      "affectionateness 1  12\n",
      "eroticism 2         16\n",
      "eroticism 3         85\n",
      "negation 2          56\n",
      "eroticism 1          9\n"
     ]
    }
   ],
   "source": [
    "vocab = pd.DataFrame.from_csv('../../data/pairing_01(2017-08-21 00:03:13.056).csv')\n",
    "sizes = pd.DataFrame.from_csv('../../data/pairing_02(2017-08-21 00:01:41.166).csv')\n",
    "print(vocab.head(), sizes.head())"
   ]
  },
  {
   "cell_type": "code",
   "execution_count": 123,
   "metadata": {},
   "outputs": [],
   "source": [
    "# clean_vocab = vocab.filter(regex=\"(\\w+(\\S))\")\n",
    "clean_vocab = pd.DataFrame()\n",
    "for row in range(len(vocab)):\n",
    "    # print (vocab.iloc[row].name.split(\" \"))\n",
    "    if len(vocab.iloc[row].name.split(\" \")) == 1:\n",
    "        \n",
    "        clean_vocab = clean_vocab.append(vocab.iloc[row])"
   ]
  },
  {
   "cell_type": "code",
   "execution_count": 150,
   "metadata": {},
   "outputs": [
    {
     "name": "stdout",
     "output_type": "stream",
     "text": [
      "                           ['agony 3', 'anguish 3', 'attraction 3']\n",
      "convolute         ['alarm 3', 'dismay 3', 'fatigue 3', 'flatness...\n",
      "conjury                                              ['devotion 3']\n",
      "daftness          ['foolishness 3', 'foolishness 2', 'fury 3', '...\n",
      "aegis             ['blame 3', 'concern 3', 'confidence 3', 'deni...\n",
      "forgather         ['aggravation 3', 'ambiance 3', 'anguish 3', '...\n",
      "preface           ['ambiance 3', 'consideration 3', 'darkness 3'...\n",
      "conjuring                                            ['devotion 3']\n",
      "shamble                           ['attraction 3', 'disturbance 3']\n",
      "conjure           ['abhorrence 3', 'abomination 3', 'agony 3', '...\n",
      "regularize        ['alarm 3', 'compromise 3', 'consonance 3', 'd...\n",
      "parsimoniousness  ['absorption 3', 'closeness 3', 'closeness 1',...\n",
      "coarctation                                         ['closeness 3']\n",
      "untie             ['disturbance 3', 'liberation 3', 'loss 3', 'r...\n",
      "electricity       ['alarm 3', 'alarm 2', 'desire 3', 'dimension ...\n",
      "similarity        ['appraisal 3', 'audaciousness 3', 'belief 3',...\n",
      "scold             ['aggravation 3', 'agony 3', 'anger 3', 'angui...\n",
      "gab                                                   ['outrage 3']\n",
      "unsuitableness    ['affliction 3', 'awkwardness 3', 'awkwardness...\n",
      "outwit            ['ambiance 3', 'defeat 3', 'distance 3', 'dist...\n",
      "tingle            ['blame 3', 'coldness 3', 'disturbance 3', 'fa...\n",
      "funk                                                   ['thrill 3']\n",
      "impoverishment    ['aliveness 3', 'animation 3', 'attraction 3',...\n",
      "deferment                          ['appreciation 3', 'distance 3']\n",
      "sputter           ['aggressiveness 3', 'compromise 3', 'depressi...\n",
      "lord              ['content 3', 'defeat 3', 'dominance 3', 'pote...\n",
      "corridor                                                ['shock 3']\n",
      "mackerel                                               ['terror 3']\n",
      "shaving           ['amusement 3', 'festivity 3', 'interest 3', '...\n",
      "sinking           ['absorption 3', 'absorption 2', 'assimilation...\n",
      "antecede                                      ['ego 3', 'thrill 3']\n",
      "...                                                             ...\n",
      "thunder           ['appreciation 3', 'bitterness 3', 'flatness 3...\n",
      "cooking           ['alarm 3', 'conformity 3', 'eagerness 3', 'ex...\n",
      "decry             ['aggravation 3', 'disgrace 3', 'exasperation ...\n",
      "lowliness         ['humbleness 3', 'humbleness 1', 'humbleness 2...\n",
      "undertone         ['concern 3', 'darkness 3', 'interest 3', 'liv...\n",
      "aggression        ['aggravation 3', 'aggravation 1', 'aggravatio...\n",
      "designing         ['acceptance 3', 'alarm 3', 'belief 3', 'confo...\n",
      "payoff            ['aggressiveness 3', 'alteration 3', 'apprecia...\n",
      "succumb           ['acceptance 3', 'appreciation 3', 'blame 3', ...\n",
      "inducement        ['inducement 2', 'inducement 3', 'infection 3'...\n",
      "cull              ['antipathy 3', 'blame 3', 'blame 2', 'contemp...\n",
      "specialist                                            ['ecstasy 3']\n",
      "widget            ['alarm 3', 'reception 3', 'reinforcement 3', ...\n",
      "hero              ['acceptance 3', 'attraction 3', 'concern 3', ...\n",
      "dulcorate         ['admiration 3', 'adoration 3', 'awe 3', 'curi...\n",
      "herb              ['fate 3', 'fear 3', 'fortune 3', 'grief 3', '...\n",
      "error             ['abomination 3', 'acceptance 3', 'agony 3', '...\n",
      "isometric         ['conformity 3', 'depression 3', 'dimension 3'...\n",
      "herd              ['depression 3', 'disturbance 3', 'infatuation...\n",
      "specialise        ['ambiance 3', 'arousal 3', 'blame 3', 'compro...\n",
      "nauseatingness    ['darkness 3', 'lousiness 3', 'lousiness 2', '...\n",
      "chassis           ['abhorrence 3', 'abomination 3', 'abomination...\n",
      "despicableness             ['despicableness 2', 'despicableness 3']\n",
      "granularity                          ['saltiness 3', 'saltiness 2']\n",
      "cult              ['anger 3', 'foolishness 3', 'furiousness 3', ...\n",
      "integrality                                              ['loss 3']\n",
      "chink             ['ambiance 3', 'appreciation 3', 'compromise 3...\n",
      "darkness          ['cloudiness 3', 'cloudiness 2', 'darkness 3',...\n",
      "substance         ['abandonment 3', 'acceptance 3', 'acceptance ...\n",
      "unwillingness     ['defiance 3', 'defiance 2', 'freedom 3', 'hes...\n",
      "\n",
      "[100 rows x 1 columns]\n",
      "['alarm 3', 'dismay 3', 'fatigue 3', 'flatness 3', 'impulse 3', 'insult 3', 'outrage 3', 'quirkiness 3', 'reinforcement 3', 'safety 3', 'straightness 3'] convolute\n"
     ]
    }
   ],
   "source": [
    "print(clean_vocab.head(100))\n",
    "print(clean_vocab.iloc[0][0], clean_vocab.iloc[0].name)"
   ]
  },
  {
   "cell_type": "code",
   "execution_count": 143,
   "metadata": {},
   "outputs": [
    {
     "name": "stdout",
     "output_type": "stream",
     "text": [
      "14054 14054\n"
     ]
    }
   ],
   "source": [
    "print(len(clean_vocab), clean_vocab.shape[0])"
   ]
  },
  {
   "cell_type": "code",
   "execution_count": 128,
   "metadata": {
    "collapsed": true
   },
   "outputs": [],
   "source": [
    "weights = {}\n",
    "for row in range(10):\n",
    "    weights[sizes.iloc[row].name] = 100 / sizes.iloc[row][0]"
   ]
  },
  {
   "cell_type": "code",
   "execution_count": 129,
   "metadata": {},
   "outputs": [
    {
     "name": "stdout",
     "output_type": "stream",
     "text": [
      "{'affectionateness 1': 8.3333333333333339, 'eroticism 2': 6.25, 'eroticism 3': 1.1764705882352942, 'negation 2': 1.7857142857142858, 'eroticism 1': 11.111111111111111, 'attraction 3': 0.027359781121751026, 'attraction 2': 0.34129692832764508, 'attraction 1': 7.1428571428571432, 'vengefulness 1': 33.333333333333336, 'animation 1': 4.5454545454545459}\n"
     ]
    }
   ],
   "source": [
    "print(weights)"
   ]
  },
  {
   "cell_type": "code",
   "execution_count": 156,
   "metadata": {},
   "outputs": [
    {
     "ename": "IndexError",
     "evalue": "index out of bounds",
     "output_type": "error",
     "traceback": [
      "\u001b[0;31m---------------------------------------------------------------------------\u001b[0m",
      "\u001b[0;31mKeyError\u001b[0m                                  Traceback (most recent call last)",
      "\u001b[0;32m/home/brian/anaconda3/lib/python3.6/site-packages/pandas/core/indexes/base.py\u001b[0m in \u001b[0;36mget_value\u001b[0;34m(self, series, key)\u001b[0m\n\u001b[1;32m   2427\u001b[0m             return self._engine.get_value(s, k,\n\u001b[0;32m-> 2428\u001b[0;31m                                           tz=getattr(series.dtype, 'tz', None))\n\u001b[0m\u001b[1;32m   2429\u001b[0m         \u001b[0;32mexcept\u001b[0m \u001b[0mKeyError\u001b[0m \u001b[0;32mas\u001b[0m \u001b[0me1\u001b[0m\u001b[0;34m:\u001b[0m\u001b[0;34m\u001b[0m\u001b[0m\n",
      "\u001b[0;32mpandas/_libs/index.pyx\u001b[0m in \u001b[0;36mpandas._libs.index.IndexEngine.get_value (pandas/_libs/index.c:4363)\u001b[0;34m()\u001b[0m\n",
      "\u001b[0;32mpandas/_libs/index.pyx\u001b[0m in \u001b[0;36mpandas._libs.index.IndexEngine.get_value (pandas/_libs/index.c:4046)\u001b[0;34m()\u001b[0m\n",
      "\u001b[0;32mpandas/_libs/index.pyx\u001b[0m in \u001b[0;36mpandas._libs.index.IndexEngine.get_loc (pandas/_libs/index.c:5085)\u001b[0;34m()\u001b[0m\n",
      "\u001b[0;32mpandas/_libs/hashtable_class_helper.pxi\u001b[0m in \u001b[0;36mpandas._libs.hashtable.PyObjectHashTable.get_item (pandas/_libs/hashtable.c:20405)\u001b[0;34m()\u001b[0m\n",
      "\u001b[0;32mpandas/_libs/hashtable_class_helper.pxi\u001b[0m in \u001b[0;36mpandas._libs.hashtable.PyObjectHashTable.get_item (pandas/_libs/hashtable.c:20359)\u001b[0;34m()\u001b[0m\n",
      "\u001b[0;31mKeyError\u001b[0m: 1",
      "\nDuring handling of the above exception, another exception occurred:\n",
      "\u001b[0;31mIndexError\u001b[0m                                Traceback (most recent call last)",
      "\u001b[0;32m<ipython-input-156-6b8f89f06b8f>\u001b[0m in \u001b[0;36m<module>\u001b[0;34m()\u001b[0m\n\u001b[0;32m----> 1\u001b[0;31m \u001b[0maff_ai\u001b[0m\u001b[0;34m.\u001b[0m\u001b[0mtrain\u001b[0m\u001b[0;34m(\u001b[0m\u001b[0mclean_vocab\u001b[0m\u001b[0;34m,\u001b[0m \u001b[0mweights\u001b[0m\u001b[0;34m)\u001b[0m\u001b[0;34m\u001b[0m\u001b[0m\n\u001b[0m",
      "\u001b[0;32m/home/brian/Documents/Projects/git/agile-analyst/app/ml_models/affect_ai.py\u001b[0m in \u001b[0;36mtrain\u001b[0;34m(self, vocab, weights)\u001b[0m\n\u001b[1;32m     45\u001b[0m         \u001b[0;31m# Take in each word, add all observed corpora and vocab to internal dictionaries.\u001b[0m\u001b[0;34m\u001b[0m\u001b[0;34m\u001b[0m\u001b[0m\n\u001b[1;32m     46\u001b[0m         \u001b[0;32mfor\u001b[0m \u001b[0mrow\u001b[0m \u001b[0;32min\u001b[0m \u001b[0mrange\u001b[0m\u001b[0;34m(\u001b[0m\u001b[0mlen\u001b[0m\u001b[0;34m(\u001b[0m\u001b[0mvocab\u001b[0m\u001b[0;34m)\u001b[0m\u001b[0;34m)\u001b[0m\u001b[0;34m:\u001b[0m\u001b[0;34m\u001b[0m\u001b[0m\n\u001b[0;32m---> 47\u001b[0;31m             \u001b[0mprint\u001b[0m\u001b[0;34m(\u001b[0m\u001b[0mrow\u001b[0m\u001b[0;34m)\u001b[0m\u001b[0;34m\u001b[0m\u001b[0m\n\u001b[0m\u001b[1;32m     48\u001b[0m             \u001b[0mself\u001b[0m\u001b[0;34m.\u001b[0m\u001b[0mvocab\u001b[0m\u001b[0;34m[\u001b[0m\u001b[0mvocab\u001b[0m\u001b[0;34m.\u001b[0m\u001b[0miloc\u001b[0m\u001b[0;34m[\u001b[0m\u001b[0mrow\u001b[0m\u001b[0;34m]\u001b[0m\u001b[0;34m.\u001b[0m\u001b[0mname\u001b[0m\u001b[0;34m]\u001b[0m \u001b[0;34m=\u001b[0m \u001b[0mvocab\u001b[0m\u001b[0;34m.\u001b[0m\u001b[0miloc\u001b[0m\u001b[0;34m[\u001b[0m\u001b[0mrow\u001b[0m\u001b[0;34m]\u001b[0m\u001b[0;34m\u001b[0m\u001b[0m\n\u001b[1;32m     49\u001b[0m         \u001b[0;32mfor\u001b[0m \u001b[0mvalue\u001b[0m \u001b[0;32min\u001b[0m \u001b[0mCounter\u001b[0m\u001b[0;34m(\u001b[0m\u001b[0mself\u001b[0m\u001b[0;34m.\u001b[0m\u001b[0mvocab\u001b[0m\u001b[0;34m.\u001b[0m\u001b[0mvalues\u001b[0m\u001b[0;34m(\u001b[0m\u001b[0;34m)\u001b[0m\u001b[0;34m)\u001b[0m\u001b[0;34m:\u001b[0m\u001b[0;34m\u001b[0m\u001b[0m\n",
      "\u001b[0;32m/home/brian/anaconda3/lib/python3.6/site-packages/pandas/core/series.py\u001b[0m in \u001b[0;36m__getitem__\u001b[0;34m(self, key)\u001b[0m\n\u001b[1;32m    599\u001b[0m         \u001b[0mkey\u001b[0m \u001b[0;34m=\u001b[0m \u001b[0mcom\u001b[0m\u001b[0;34m.\u001b[0m\u001b[0m_apply_if_callable\u001b[0m\u001b[0;34m(\u001b[0m\u001b[0mkey\u001b[0m\u001b[0;34m,\u001b[0m \u001b[0mself\u001b[0m\u001b[0;34m)\u001b[0m\u001b[0;34m\u001b[0m\u001b[0m\n\u001b[1;32m    600\u001b[0m         \u001b[0;32mtry\u001b[0m\u001b[0;34m:\u001b[0m\u001b[0;34m\u001b[0m\u001b[0m\n\u001b[0;32m--> 601\u001b[0;31m             \u001b[0mresult\u001b[0m \u001b[0;34m=\u001b[0m \u001b[0mself\u001b[0m\u001b[0;34m.\u001b[0m\u001b[0mindex\u001b[0m\u001b[0;34m.\u001b[0m\u001b[0mget_value\u001b[0m\u001b[0;34m(\u001b[0m\u001b[0mself\u001b[0m\u001b[0;34m,\u001b[0m \u001b[0mkey\u001b[0m\u001b[0;34m)\u001b[0m\u001b[0;34m\u001b[0m\u001b[0m\n\u001b[0m\u001b[1;32m    602\u001b[0m \u001b[0;34m\u001b[0m\u001b[0m\n\u001b[1;32m    603\u001b[0m             \u001b[0;32mif\u001b[0m \u001b[0;32mnot\u001b[0m \u001b[0mis_scalar\u001b[0m\u001b[0;34m(\u001b[0m\u001b[0mresult\u001b[0m\u001b[0;34m)\u001b[0m\u001b[0;34m:\u001b[0m\u001b[0;34m\u001b[0m\u001b[0m\n",
      "\u001b[0;32m/home/brian/anaconda3/lib/python3.6/site-packages/pandas/core/indexes/base.py\u001b[0m in \u001b[0;36mget_value\u001b[0;34m(self, series, key)\u001b[0m\n\u001b[1;32m   2432\u001b[0m \u001b[0;34m\u001b[0m\u001b[0m\n\u001b[1;32m   2433\u001b[0m             \u001b[0;32mtry\u001b[0m\u001b[0;34m:\u001b[0m\u001b[0;34m\u001b[0m\u001b[0m\n\u001b[0;32m-> 2434\u001b[0;31m                 \u001b[0;32mreturn\u001b[0m \u001b[0mlibts\u001b[0m\u001b[0;34m.\u001b[0m\u001b[0mget_value_box\u001b[0m\u001b[0;34m(\u001b[0m\u001b[0ms\u001b[0m\u001b[0;34m,\u001b[0m \u001b[0mkey\u001b[0m\u001b[0;34m)\u001b[0m\u001b[0;34m\u001b[0m\u001b[0m\n\u001b[0m\u001b[1;32m   2435\u001b[0m             \u001b[0;32mexcept\u001b[0m \u001b[0mIndexError\u001b[0m\u001b[0;34m:\u001b[0m\u001b[0;34m\u001b[0m\u001b[0m\n\u001b[1;32m   2436\u001b[0m                 \u001b[0;32mraise\u001b[0m\u001b[0;34m\u001b[0m\u001b[0m\n",
      "\u001b[0;32mpandas/_libs/tslib.pyx\u001b[0m in \u001b[0;36mpandas._libs.tslib.get_value_box (pandas/_libs/tslib.c:18843)\u001b[0;34m()\u001b[0m\n",
      "\u001b[0;32mpandas/_libs/tslib.pyx\u001b[0m in \u001b[0;36mpandas._libs.tslib.get_value_box (pandas/_libs/tslib.c:18560)\u001b[0;34m()\u001b[0m\n",
      "\u001b[0;31mIndexError\u001b[0m: index out of bounds"
     ]
    }
   ],
   "source": [
    "aff_ai.train(clean_vocab, weights)"
   ]
  },
  {
   "cell_type": "code",
   "execution_count": null,
   "metadata": {
    "collapsed": true
   },
   "outputs": [],
   "source": []
  }
 ],
 "metadata": {
  "kernelspec": {
   "display_name": "Python 3",
   "language": "python",
   "name": "python3"
  },
  "language_info": {
   "codemirror_mode": {
    "name": "ipython",
    "version": 3
   },
   "file_extension": ".py",
   "mimetype": "text/x-python",
   "name": "python",
   "nbconvert_exporter": "python",
   "pygments_lexer": "ipython3",
   "version": "3.6.1"
  }
 },
 "nbformat": 4,
 "nbformat_minor": 2
}
